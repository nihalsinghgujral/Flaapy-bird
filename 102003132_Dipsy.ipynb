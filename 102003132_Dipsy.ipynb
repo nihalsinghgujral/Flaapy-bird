{
  "nbformat": 4,
  "nbformat_minor": 0,
  "metadata": {
    "colab": {
      "name": "102003132_Dipsy.ipynb",
      "provenance": [],
      "collapsed_sections": [],
      "include_colab_link": true
    },
    "kernelspec": {
      "name": "python3",
      "display_name": "Python 3"
    },
    "language_info": {
      "name": "python"
    }
  },
  "cells": [
    {
      "cell_type": "markdown",
      "metadata": {
        "id": "view-in-github",
        "colab_type": "text"
      },
      "source": [
        "<a href=\"https://colab.research.google.com/github/nihalsinghgujral/Flaapy-bird/blob/main/102003132_Dipsy.ipynb\" target=\"_parent\"><img src=\"https://colab.research.google.com/assets/colab-badge.svg\" alt=\"Open In Colab\"/></a>"
      ]
    },
    {
      "cell_type": "code",
      "source": [
        "import numpy as np"
      ],
      "metadata": {
        "id": "jWKIksWqWok3"
      },
      "execution_count": null,
      "outputs": []
    },
    {
      "cell_type": "code",
      "execution_count": null,
      "metadata": {
        "id": "Sbep2qQTWM11"
      },
      "outputs": [],
      "source": [
        "arr=np.array([1,2,3,6,4,5])\n",
        "\n"
      ]
    },
    {
      "cell_type": "code",
      "source": [
        "result=arr[::-1]\n"
      ],
      "metadata": {
        "id": "imnKcIADWx9b"
      },
      "execution_count": null,
      "outputs": []
    },
    {
      "cell_type": "code",
      "source": [
        "print(\"reverse array \",result)"
      ],
      "metadata": {
        "colab": {
          "base_uri": "https://localhost:8080/"
        },
        "id": "SZyUWSjIXppE",
        "outputId": "1139a773-9fe5-42c2-b1a1-1191929cc6b6"
      },
      "execution_count": null,
      "outputs": [
        {
          "output_type": "stream",
          "name": "stdout",
          "text": [
            "reverse array  [5 4 6 3 2 1]\n"
          ]
        }
      ]
    },
    {
      "cell_type": "code",
      "source": [
        "array1=np.array([[1,2,3],[2,4,5],[1,2,3]])"
      ],
      "metadata": {
        "id": "ry0-kmUyX7zD"
      },
      "execution_count": null,
      "outputs": []
    },
    {
      "cell_type": "code",
      "source": [
        "flt=array1.flatten()\n",
        "print(\"flatten array is\",flt)"
      ],
      "metadata": {
        "colab": {
          "base_uri": "https://localhost:8080/"
        },
        "id": "IodY6wvaYTXL",
        "outputId": "ece8c2d7-8b75-4e25-a359-f2db1a001e26"
      },
      "execution_count": null,
      "outputs": [
        {
          "output_type": "stream",
          "name": "stdout",
          "text": [
            "flatten array is [1 2 3 2 4 5 1 2 3]\n"
          ]
        }
      ]
    },
    {
      "cell_type": "code",
      "source": [
        "arr1=np.array([[1,2],[3,4]])\n",
        "arr2=np.array([[1,2],[3,4]])\n",
        "print(arr1)\n",
        "print(arr2)\n",
        "print(\"arr1=arr2\",np.array_equal(arr1,arr2))\n"
      ],
      "metadata": {
        "colab": {
          "base_uri": "https://localhost:8080/"
        },
        "id": "th20rf1jYttj",
        "outputId": "a8a2bfb3-34d7-4fd6-91aa-877b76c3c7b3"
      },
      "execution_count": null,
      "outputs": [
        {
          "output_type": "stream",
          "name": "stdout",
          "text": [
            "[[1 2]\n",
            " [3 4]]\n",
            "[[1 2]\n",
            " [3 4]]\n",
            "arr1=arr2 True\n"
          ]
        }
      ]
    },
    {
      "cell_type": "code",
      "source": [
        "x=np.array([1,2,3,4,5,1,2,1,1,1])\n",
        "y=np.array([1,1,1,2,3,4,2,4,3,3,1])\n",
        "x1=np.bincount(x)\n",
        "max_ele=x1.argmax()\n",
        "print(\"array x is\",x)\n",
        "print(\"max element is\",max_ele)\n",
        "for i in range(0,x.size):\n",
        "  if x[i]==max_ele:\n",
        "    print(\"indices are :\",i)\n",
        "\n",
        "print(\"array y is\",y)\n",
        "y1=np.bincount(y)\n",
        "max_eley=y1.argmax()\n",
        "print(\"max element is\",max_eley)\n",
        "for i in range(0,y.size):\n",
        "  if y[i]==max_eley:\n",
        "    print(\"indices are\",i)    \n",
        "\n",
        "\n",
        "\n",
        "  \n",
        "\n",
        "\n"
      ],
      "metadata": {
        "colab": {
          "base_uri": "https://localhost:8080/"
        },
        "id": "vGsqe51uZ74y",
        "outputId": "e73438a0-39c1-406f-9f00-51a3689f4167"
      },
      "execution_count": null,
      "outputs": [
        {
          "output_type": "stream",
          "name": "stdout",
          "text": [
            "array x is [1 2 3 4 5 1 2 1 1 1]\n",
            "max element is 1\n",
            "indices are : 0\n",
            "indices are : 5\n",
            "indices are : 7\n",
            "indices are : 8\n",
            "indices are : 9\n",
            "array y is [1 1 1 2 3 4 2 4 3 3 1]\n",
            "max element is 1\n",
            "indices are 0\n",
            "indices are 1\n",
            "indices are 2\n",
            "indices are 10\n"
          ]
        }
      ]
    },
    {
      "cell_type": "code",
      "source": [
        "gfg=np.matrix('[4,1,9;12,3,1;4,5,6')\n",
        "gfg\n",
        "print(\"sum of elements is \",np.sum(gfg))\n",
        "print(\"column wise sum is\",np.sum(gfg,axis=0))\n",
        "print(\"row wise sum is\",np.sum(gfg,axis=1))\n"
      ],
      "metadata": {
        "colab": {
          "base_uri": "https://localhost:8080/"
        },
        "id": "2aCCRxXQfS7Y",
        "outputId": "fa0bcfdc-c0b4-408f-9fbb-5b5012017bce"
      },
      "execution_count": null,
      "outputs": [
        {
          "output_type": "stream",
          "name": "stdout",
          "text": [
            "sum of elements is  45\n",
            "column wise sum is [[20  9 16]]\n",
            "row wise sum is [[14]\n",
            " [16]\n",
            " [15]]\n"
          ]
        }
      ]
    },
    {
      "cell_type": "code",
      "source": [
        "n_array=np.array([[55,25,15],[30,44,2],[11,45,77]])\n",
        "n_array\n",
        "print(\"diagonal elements \",np.diagonal(n_array))\n",
        "print(\"sum of diagonal elements is \",np.trace(n_array))\n",
        "w,v=np.linalg.eig(n_array)\n",
        "print(\"eigen value is \",w)\n",
        "print(\"eigen vector is \",v )\n",
        "print(\"inverse is\",np.linalg.inv(n_array))\n",
        "print(\"determinant of array is\",np.linalg.det(n_array))"
      ],
      "metadata": {
        "id": "w3wdig3jh_DV",
        "colab": {
          "base_uri": "https://localhost:8080/"
        },
        "outputId": "5f4a7e02-f87d-40b7-8021-c67b7aae6968"
      },
      "execution_count": null,
      "outputs": [
        {
          "output_type": "stream",
          "name": "stdout",
          "text": [
            "diagonal elements  [55 44 77]\n",
            "sum of diagonal elements is  176\n",
            "eigen value is  [98.16835147 28.097044   49.73460452]\n",
            "eigen vector is  [[ 0.4574917   0.34637121 -0.15017693]\n",
            " [ 0.28447814 -0.72784061 -0.4852124 ]\n",
            " [ 0.84248058  0.59184038  0.8614034 ]]\n",
            "inverse is [[ 0.02404141 -0.00911212 -0.00444671]\n",
            " [-0.01667882  0.02966905  0.0024785 ]\n",
            " [ 0.00631287 -0.01603732  0.01217379]]\n",
            "determinant of array is 137180.0000000001\n"
          ]
        }
      ]
    },
    {
      "cell_type": "code",
      "source": [
        "p=np.array([[1,2],[2,3]])\n",
        "q=np.array([[4,5],[6,7]])\n",
        "print(\"multiplication\")\n",
        "print(np.matmul(p,q))\n",
        "print(\"covariance is \")\n",
        "print(np.cov(p,q))\n",
        "\n",
        "p1=np.array([[1,2],[2,3],[4,5]])\n",
        "q1=np.array([[4,5,1],[6,7,2]])\n",
        "print(\"multiplication\")\n",
        "print(np.matmul(p1,q1))\n",
        "\n",
        "\n"
      ],
      "metadata": {
        "colab": {
          "base_uri": "https://localhost:8080/"
        },
        "id": "PB-19Cl0k6BK",
        "outputId": "5de3d25f-3d37-4605-cc25-4167b2011b4b"
      },
      "execution_count": null,
      "outputs": [
        {
          "output_type": "stream",
          "name": "stdout",
          "text": [
            "multiplication\n",
            "[[16 19]\n",
            " [26 31]]\n",
            "covariance is \n",
            "[[0.5 0.5 0.5 0.5]\n",
            " [0.5 0.5 0.5 0.5]\n",
            " [0.5 0.5 0.5 0.5]\n",
            " [0.5 0.5 0.5 0.5]]\n",
            "multiplication\n",
            "[[16 19  5]\n",
            " [26 31  8]\n",
            " [46 55 14]]\n"
          ]
        }
      ]
    },
    {
      "cell_type": "code",
      "source": [
        "x=np.array([[2,3,4],[3,2,9]])\n",
        "y=np.array([[1,5,0],[5,10,3]])\n",
        "print(\"inner product is\",np.inner(x,y))\n",
        "print(\"outer product is \",np.outer(x,y))\n",
        "print(\"cross product is \",np.cross(x,y))"
      ],
      "metadata": {
        "colab": {
          "base_uri": "https://localhost:8080/"
        },
        "id": "MLk0jwxzm4jm",
        "outputId": "315bae27-a721-4780-a07f-245cd0ffec50"
      },
      "execution_count": null,
      "outputs": [
        {
          "output_type": "stream",
          "name": "stdout",
          "text": [
            "inner product is [[17 52]\n",
            " [13 62]]\n",
            "outer product is  [[ 2 10  0 10 20  6]\n",
            " [ 3 15  0 15 30  9]\n",
            " [ 4 20  0 20 40 12]\n",
            " [ 3 15  0 15 30  9]\n",
            " [ 2 10  0 10 20  6]\n",
            " [ 9 45  0 45 90 27]]\n",
            "cross product is  [[-20   4   7]\n",
            " [-84  36  20]]\n"
          ]
        }
      ]
    },
    {
      "cell_type": "code",
      "source": [
        "#q2 a\n",
        "array=np.array([[1,-2,3],[-4,5,-6]])\n",
        "print(\"the absolute value element wise:\")\n",
        "print(abs(array))\n",
        "\n",
        "print(\"25th percentile column wise\")\n",
        "print(np.percentile(array,25,axis=0))\n",
        "print(\"25th percentile row wise\")\n",
        "print(np.percentile(array,25,axis=1))\n",
        "\n",
        "print(\"50th percentile column wise\")\n",
        "print(np.percentile(array,50,axis=0))\n",
        "print(\"50th percentile row wise\")\n",
        "print(np.percentile(array,50,axis=1))\n",
        "\n",
        "print(\"75th percentile column wise\")\n",
        "print(np.percentile(array,75,axis=0))\n",
        "print(\"75th percentile row wise\")\n",
        "print(np.percentile(array,75,axis=1))\n",
        "\n",
        "print(\"mean of each col of array is\",np.mean(array,axis=0))\n",
        "print(\"mean of each row of array is\",np.mean(array,axis=1))\n",
        "\n",
        "print(\"median of each col of array is\",np.median(array,axis=0))\n",
        "print(\"median of each row of array is\",np.median(array,axis=1))\n",
        "\n",
        "print(\"standard deviation of each col of array is\",np.std(array,axis=0))\n",
        "print(\"standard deviation of each row of array is\",np.std(array,axis=1))"
      ],
      "metadata": {
        "colab": {
          "base_uri": "https://localhost:8080/"
        },
        "id": "HZ5zuHy6zlAK",
        "outputId": "7e0dfe30-6648-4b9b-812f-bbe27a916730"
      },
      "execution_count": null,
      "outputs": [
        {
          "output_type": "stream",
          "name": "stdout",
          "text": [
            "the absolute value element wise:\n",
            "[[1 2 3]\n",
            " [4 5 6]]\n",
            "25th percentile column wise\n",
            "[-2.75 -0.25 -3.75]\n",
            "25th percentile row wise\n",
            "[-0.5 -5. ]\n",
            "50th percentile column wise\n",
            "[-1.5  1.5 -1.5]\n",
            "50th percentile row wise\n",
            "[ 1. -4.]\n",
            "75th percentile column wise\n",
            "[-0.25  3.25  0.75]\n",
            "75th percentile row wise\n",
            "[2.  0.5]\n",
            "mean of each col of array is [-1.5  1.5 -1.5]\n",
            "mean of each row of array is [ 0.66666667 -1.66666667]\n",
            "median of each col of array is [-1.5  1.5 -1.5]\n",
            "median of each row of array is [ 1. -4.]\n",
            "standard deviation of each col of array is [2.5 3.5 4.5]\n",
            "standard deviation of each row of array is [2.05480467 4.78423336]\n"
          ]
        }
      ]
    },
    {
      "cell_type": "code",
      "source": [
        "#q2 b\n",
        "a=np.array([-1.8,-1.6,-0.5,0.5,1.6,1.8,3.0])\n",
        "print(\"floor of array are\",np.floor(a))\n",
        "print(\"ceil of array are\",np.ceil(a))\n",
        "print(\"truncated array are\",np.trunc(a))\n",
        "print(\"rounded array are\",np.round(a))"
      ],
      "metadata": {
        "colab": {
          "base_uri": "https://localhost:8080/"
        },
        "id": "pGs455ji208V",
        "outputId": "801ede29-5067-4baa-8a75-24685bc9c4de"
      },
      "execution_count": null,
      "outputs": [
        {
          "output_type": "stream",
          "name": "stdout",
          "text": [
            "floor of array are [-2. -2. -1.  0.  1.  1.  3.]\n",
            "ceil of array are [-1. -1. -0.  1.  2.  2.  3.]\n",
            "truncated array are [-1. -1. -0.  0.  1.  1.  3.]\n",
            "rounded array are [-2. -2. -0.  0.  2.  2.  3.]\n"
          ]
        }
      ]
    },
    {
      "cell_type": "code",
      "source": [
        "#q3 a\n",
        "array=np.array([10,52,62,16,16,54,453])\n",
        "n=array.size\n",
        "array1=np.sort(array)\n",
        "print(\"sorted array is \",array1)\n",
        "print(\"indices of sorted array is\",np.argsort(array))\n",
        "print(\"4 smallest element are \",array1[:4])\n",
        "print(\"5 largest value are\",array1[-5:])"
      ],
      "metadata": {
        "colab": {
          "base_uri": "https://localhost:8080/"
        },
        "id": "Rubj3Qgs5L-y",
        "outputId": "ad9adfab-d0ff-462a-db77-489db573e941"
      },
      "execution_count": null,
      "outputs": [
        {
          "output_type": "stream",
          "name": "stdout",
          "text": [
            "sorted array is  [ 10  16  16  52  54  62 453]\n",
            "indices of sorted array is [0 3 4 1 5 2 6]\n",
            "4 smallest element are  [10 16 16 52]\n",
            "5 largest value are [ 16  52  54  62 453]\n"
          ]
        }
      ]
    },
    {
      "cell_type": "code",
      "source": [
        "#q3 b\n",
        "array=np.array([1.0,1.2,2.2,2.0,3.0,2.0])\n",
        "print(\"integer elements are:\")\n",
        "inta=array[array==array.astype(int)]\n",
        "print(inta)\n",
        "\n",
        "print(\"float elements are:\")\n",
        "intf=array[array!=array.astype(int)]\n",
        "print(intf)\n",
        "\n"
      ],
      "metadata": {
        "colab": {
          "base_uri": "https://localhost:8080/"
        },
        "id": "zvGyevaq70wX",
        "outputId": "d3866c89-7be3-4c12-a5c5-ac88965990df"
      },
      "execution_count": null,
      "outputs": [
        {
          "output_type": "stream",
          "name": "stdout",
          "text": [
            "integer elements are:\n",
            "[1. 2. 3. 2.]\n",
            "float elements are:\n",
            "[1.2 2.2]\n"
          ]
        }
      ]
    },
    {
      "cell_type": "code",
      "source": [
        "#q4 a\n",
        "import cv2\n",
        "img = cv2.imread('/content/joshua-aragon-FGXqbqbGt5o-unsplash.jpg')\n",
        "print(img.shape)\n",
        "# cv2.imshow('hello', img)\n",
        "f = open('/content/img_txt', 'x')\n",
        "\n",
        "#print(np.array_str(img))\n",
        "f.write(np.array_str(img))\n",
        "f.close()\n",
        "\n",
        "\n"
      ],
      "metadata": {
        "id": "QELCdwPm-HZ3",
        "colab": {
          "base_uri": "https://localhost:8080/",
          "height": 252
        },
        "outputId": "e1b2f700-07c2-4e42-cc79-87b0759f9f63"
      },
      "execution_count": null,
      "outputs": [
        {
          "output_type": "stream",
          "name": "stdout",
          "text": [
            "(1826, 2746, 3)\n"
          ]
        },
        {
          "output_type": "error",
          "ename": "FileExistsError",
          "evalue": "ignored",
          "traceback": [
            "\u001b[0;31m---------------------------------------------------------------------------\u001b[0m",
            "\u001b[0;31mFileExistsError\u001b[0m                           Traceback (most recent call last)",
            "\u001b[0;32m<ipython-input-8-98984b281ce4>\u001b[0m in \u001b[0;36m<module>\u001b[0;34m()\u001b[0m\n\u001b[1;32m      4\u001b[0m \u001b[0mprint\u001b[0m\u001b[0;34m(\u001b[0m\u001b[0mimg\u001b[0m\u001b[0;34m.\u001b[0m\u001b[0mshape\u001b[0m\u001b[0;34m)\u001b[0m\u001b[0;34m\u001b[0m\u001b[0;34m\u001b[0m\u001b[0m\n\u001b[1;32m      5\u001b[0m \u001b[0;31m# cv2.imshow('hello', img)\u001b[0m\u001b[0;34m\u001b[0m\u001b[0;34m\u001b[0m\u001b[0;34m\u001b[0m\u001b[0m\n\u001b[0;32m----> 6\u001b[0;31m \u001b[0mf\u001b[0m \u001b[0;34m=\u001b[0m \u001b[0mopen\u001b[0m\u001b[0;34m(\u001b[0m\u001b[0;34m'/content/img_txt'\u001b[0m\u001b[0;34m,\u001b[0m \u001b[0;34m'x'\u001b[0m\u001b[0;34m)\u001b[0m\u001b[0;34m\u001b[0m\u001b[0;34m\u001b[0m\u001b[0m\n\u001b[0m\u001b[1;32m      7\u001b[0m \u001b[0;34m\u001b[0m\u001b[0m\n\u001b[1;32m      8\u001b[0m \u001b[0;31m#print(np.array_str(img))\u001b[0m\u001b[0;34m\u001b[0m\u001b[0;34m\u001b[0m\u001b[0;34m\u001b[0m\u001b[0m\n",
            "\u001b[0;31mFileExistsError\u001b[0m: [Errno 17] File exists: '/content/img_txt'"
          ]
        }
      ]
    },
    {
      "cell_type": "code",
      "source": [
        "print(img)"
      ],
      "metadata": {
        "colab": {
          "base_uri": "https://localhost:8080/"
        },
        "id": "080Nk_xa80dr",
        "outputId": "4029b4e5-01ff-4411-fbc3-14a865824940"
      },
      "execution_count": null,
      "outputs": [
        {
          "output_type": "stream",
          "name": "stdout",
          "text": [
            "[[[15  6 19]\n",
            "  [16  7 20]\n",
            "  [17  8 21]\n",
            "  ...\n",
            "  [65 63 75]\n",
            "  [64 62 74]\n",
            "  [65 63 75]]\n",
            "\n",
            " [[16  7 20]\n",
            "  [17  8 21]\n",
            "  [18  9 22]\n",
            "  ...\n",
            "  [63 61 73]\n",
            "  [64 62 74]\n",
            "  [65 63 75]]\n",
            "\n",
            " [[17  8 21]\n",
            "  [17  8 21]\n",
            "  [18  9 22]\n",
            "  ...\n",
            "  [64 60 72]\n",
            "  [60 58 70]\n",
            "  [62 60 72]]\n",
            "\n",
            " ...\n",
            "\n",
            " [[18 11 14]\n",
            "  [18 11 14]\n",
            "  [18 11 14]\n",
            "  ...\n",
            "  [20 10 10]\n",
            "  [20 10 10]\n",
            "  [20 10 10]]\n",
            "\n",
            " [[18 11 16]\n",
            "  [19 12 17]\n",
            "  [19 12 17]\n",
            "  ...\n",
            "  [21 11 11]\n",
            "  [18  8  8]\n",
            "  [19  9  9]]\n",
            "\n",
            " [[18 11 16]\n",
            "  [19 12 17]\n",
            "  [19 12 17]\n",
            "  ...\n",
            "  [21 11 11]\n",
            "  [19  9  9]\n",
            "  [20 10 10]]]\n"
          ]
        }
      ]
    },
    {
      "cell_type": "code",
      "source": [
        "def img_to_array(path):\n",
        "  import keras\n",
        "  from keras.preprocessing.image import load_img\n",
        "\n",
        "  img = load_img(path)\n",
        "  print(type(img))\n",
        "  print(img.format)\n",
        "  print(img.mode)\n",
        "  print(img.size)\n",
        "  img.show()\n",
        "\n",
        "  # resizing image\n",
        "  imgr = img.resize([30, 30])\n",
        "  print(imgr.size)\n",
        "\n",
        "  # converting image to array\n",
        "  from keras.preprocessing.image import img_to_array\n",
        "  imgarr = img_to_array(img)\n",
        "  print(imgarr.shape)\n",
        "\n",
        "  # saving image\n",
        "  from keras.preprocessing.image import save_img\n",
        "  save_img('corvette_color.jpg', imgarr)\n",
        "\n",
        "  # converting to grayscale \n",
        "  # img_gray = load_img(path, grayscale = True)\n",
        "  # img_gray_arr = img_to_array(img_gray)\n",
        "  # save_img('corvette_grayscale.jpg', img_gray_arr)\n",
        "\n",
        "\n",
        "address = '/content/joshua-aragon-FGXqbqbGt5o-unsplash.jpg'\n",
        "img_to_array(address)"
      ],
      "metadata": {
        "colab": {
          "base_uri": "https://localhost:8080/"
        },
        "id": "zk3-5T229Hs-",
        "outputId": "ed7ed369-2018-4563-b36b-abc397fa5113"
      },
      "execution_count": null,
      "outputs": [
        {
          "output_type": "stream",
          "name": "stdout",
          "text": [
            "<class 'PIL.JpegImagePlugin.JpegImageFile'>\n",
            "JPEG\n",
            "RGB\n",
            "(2746, 1826)\n",
            "(30, 30)\n",
            "(1826, 2746, 3)\n"
          ]
        }
      ]
    }
  ]
}